{
 "cells": [
  {
   "cell_type": "code",
   "execution_count": 1,
   "metadata": {},
   "outputs": [
    {
     "name": "stderr",
     "output_type": "stream",
     "text": [
      "\u001b[38;5;159m[Genesis] [00:21:12] [INFO] \u001b[38;5;121m╭───────────────────────────────────────────────╮\u001b[0m\u001b[38;5;159m\u001b[0m\n",
      "\u001b[38;5;159m[Genesis] [00:21:12] [INFO] \u001b[38;5;121m│┈┉┈┉┈┉┈┉┈┉┈┉┈┉┈┉┈┉┈\u001b[0m\u001b[38;5;159m \u001b[38;5;121m\u001b[1m\u001b[3mGenesis\u001b[0m\u001b[38;5;159m \u001b[38;5;121m┈┉┈┉┈┉┈┉┈┉┈┉┈┉┈┉┈┉┈│\u001b[0m\u001b[38;5;159m\u001b[0m\n",
      "\u001b[38;5;159m[Genesis] [00:21:12] [INFO] \u001b[38;5;121m╰───────────────────────────────────────────────╯\u001b[0m\u001b[38;5;159m\u001b[0m\n",
      "\u001b[38;5;159m[Genesis] [00:21:12] [INFO] Running on \u001b[38;5;121m\u001b[4m[NVIDIA GeForce RTX 3090]\u001b[0m\u001b[38;5;159m with backend \u001b[38;5;121m\u001b[4mgs.cuda\u001b[0m\u001b[38;5;159m. Device memory: \u001b[38;5;121m\u001b[4m24.00\u001b[0m\u001b[38;5;159m GB.\u001b[0m\n",
      "\u001b[38;5;159m[Genesis] [00:21:12] [INFO] 🚀 Genesis initialized. 🔖 version: \u001b[38;5;121m\u001b[4m0.2.1\u001b[0m\u001b[38;5;159m, 🌱 seed: \u001b[38;5;121m\u001b[4mNone\u001b[0m\u001b[38;5;159m, 📏 precision: '\u001b[38;5;121m\u001b[4m32\u001b[0m\u001b[38;5;159m', 🐛 debug: \u001b[38;5;121m\u001b[4mFalse\u001b[0m\u001b[38;5;159m, 🎨 theme: '\u001b[38;5;121m\u001b[4mdark\u001b[0m\u001b[38;5;159m'.\u001b[0m\n",
      "\u001b[38;5;159m[Genesis] [00:21:12] [INFO] Scene \u001b[38;5;121m\u001b[3m<855a925>\u001b[0m\u001b[38;5;159m created.\u001b[0m\n",
      "\u001b[38;5;159m[Genesis] [00:21:12] [INFO] Adding \u001b[38;5;121m<gs.RigidEntity>\u001b[0m\u001b[38;5;159m. idx: \u001b[38;5;121m0\u001b[0m\u001b[38;5;159m, uid: \u001b[38;5;121m\u001b[3m<aff1836>\u001b[0m\u001b[38;5;159m, morph: \u001b[38;5;121m<gs.morphs.Plane>\u001b[0m\u001b[38;5;159m, material: \u001b[38;5;121m<gs.materials.Rigid>\u001b[0m\u001b[38;5;159m.\u001b[0m\n",
      "\u001b[38;5;159m[Genesis] [00:21:12] [INFO] Adding \u001b[38;5;121m<gs.RigidEntity>\u001b[0m\u001b[38;5;159m. idx: \u001b[38;5;121m1\u001b[0m\u001b[38;5;159m, uid: \u001b[38;5;121m\u001b[3m<9000033>\u001b[0m\u001b[38;5;159m, morph: \u001b[38;5;121m<gs.morphs.MJCF(file='c:\\Users\\hirek\\anaconda3\\envs\\genesis\\Lib\\site-packages\\genesis\\assets\\xml/franka_emika_panda/panda.xml')>\u001b[0m\u001b[38;5;159m, material: \u001b[38;5;121m<gs.materials.Rigid>\u001b[0m\u001b[38;5;159m.\u001b[0m\n",
      "\u001b[38;5;159m[Genesis] [00:21:13] [INFO] Building scene \u001b[38;5;121m\u001b[3m<855a925>\u001b[0m\u001b[38;5;159m...\u001b[0m\n",
      "\u001b[38;5;159m[Genesis] [00:21:27] [INFO] Compiling simulation kernels...\u001b[0m\n",
      "\u001b[38;5;159m[Genesis] [00:22:30] [INFO] Building visualizer...\u001b[0m\n"
     ]
    },
    {
     "ename": "AttributeError",
     "evalue": "function 'glGetUniformLocation' not found",
     "output_type": "error",
     "traceback": [
      "\u001b[1;31m---------------------------------------------------------------------------\u001b[0m",
      "\u001b[1;31mAttributeError\u001b[0m                            Traceback (most recent call last)",
      "Cell \u001b[1;32mIn[1], line 10\u001b[0m\n\u001b[0;32m      5\u001b[0m plane \u001b[38;5;241m=\u001b[39m scene\u001b[38;5;241m.\u001b[39madd_entity(gs\u001b[38;5;241m.\u001b[39mmorphs\u001b[38;5;241m.\u001b[39mPlane())\n\u001b[0;32m      6\u001b[0m franka \u001b[38;5;241m=\u001b[39m scene\u001b[38;5;241m.\u001b[39madd_entity(\n\u001b[0;32m      7\u001b[0m     gs\u001b[38;5;241m.\u001b[39mmorphs\u001b[38;5;241m.\u001b[39mMJCF(file\u001b[38;5;241m=\u001b[39m\u001b[38;5;124m'\u001b[39m\u001b[38;5;124mxml/franka_emika_panda/panda.xml\u001b[39m\u001b[38;5;124m'\u001b[39m),\n\u001b[0;32m      8\u001b[0m )\n\u001b[1;32m---> 10\u001b[0m \u001b[43mscene\u001b[49m\u001b[38;5;241;43m.\u001b[39;49m\u001b[43mbuild\u001b[49m\u001b[43m(\u001b[49m\u001b[43m)\u001b[49m\n\u001b[0;32m     12\u001b[0m \u001b[38;5;28;01mfor\u001b[39;00m i \u001b[38;5;129;01min\u001b[39;00m \u001b[38;5;28mrange\u001b[39m(\u001b[38;5;241m1000\u001b[39m):\n\u001b[0;32m     13\u001b[0m     scene\u001b[38;5;241m.\u001b[39mstep()\n",
      "File \u001b[1;32mc:\\Users\\hirek\\anaconda3\\envs\\genesis\\Lib\\site-packages\\genesis\\utils\\misc.py:38\u001b[0m, in \u001b[0;36massert_unbuilt.<locals>.wrapper\u001b[1;34m(self, *args, **kwargs)\u001b[0m\n\u001b[0;32m     36\u001b[0m \u001b[38;5;28;01mif\u001b[39;00m \u001b[38;5;28mself\u001b[39m\u001b[38;5;241m.\u001b[39mis_built:\n\u001b[0;32m     37\u001b[0m     gs\u001b[38;5;241m.\u001b[39mraise_exception(\u001b[38;5;124m\"\u001b[39m\u001b[38;5;124mScene is already built.\u001b[39m\u001b[38;5;124m\"\u001b[39m)\n\u001b[1;32m---> 38\u001b[0m \u001b[38;5;28;01mreturn\u001b[39;00m \u001b[43mmethod\u001b[49m\u001b[43m(\u001b[49m\u001b[38;5;28;43mself\u001b[39;49m\u001b[43m,\u001b[49m\u001b[43m \u001b[49m\u001b[38;5;241;43m*\u001b[39;49m\u001b[43margs\u001b[49m\u001b[43m,\u001b[49m\u001b[43m \u001b[49m\u001b[38;5;241;43m*\u001b[39;49m\u001b[38;5;241;43m*\u001b[39;49m\u001b[43mkwargs\u001b[49m\u001b[43m)\u001b[49m\n",
      "File \u001b[1;32mc:\\Users\\hirek\\anaconda3\\envs\\genesis\\Lib\\site-packages\\genesis\\engine\\scene.py:607\u001b[0m, in \u001b[0;36mScene.build\u001b[1;34m(self, n_envs, env_spacing, n_envs_per_row, center_envs_at_origin, compile_kernels)\u001b[0m\n\u001b[0;32m    605\u001b[0m \u001b[38;5;66;03m# visualizer\u001b[39;00m\n\u001b[0;32m    606\u001b[0m \u001b[38;5;28;01mwith\u001b[39;00m gs\u001b[38;5;241m.\u001b[39mlogger\u001b[38;5;241m.\u001b[39mtimer(\u001b[38;5;124m\"\u001b[39m\u001b[38;5;124mBuilding visualizer...\u001b[39m\u001b[38;5;124m\"\u001b[39m):\n\u001b[1;32m--> 607\u001b[0m     \u001b[38;5;28;43mself\u001b[39;49m\u001b[38;5;241;43m.\u001b[39;49m\u001b[43m_visualizer\u001b[49m\u001b[38;5;241;43m.\u001b[39;49m\u001b[43mbuild\u001b[49m\u001b[43m(\u001b[49m\u001b[43m)\u001b[49m\n\u001b[0;32m    609\u001b[0m \u001b[38;5;28;01mif\u001b[39;00m \u001b[38;5;28mself\u001b[39m\u001b[38;5;241m.\u001b[39m_show_FPS:\n\u001b[0;32m    610\u001b[0m     \u001b[38;5;28mself\u001b[39m\u001b[38;5;241m.\u001b[39mFPS_tracker \u001b[38;5;241m=\u001b[39m FPSTracker(\u001b[38;5;28mself\u001b[39m\u001b[38;5;241m.\u001b[39mn_envs)\n",
      "File \u001b[1;32mc:\\Users\\hirek\\anaconda3\\envs\\genesis\\Lib\\site-packages\\genesis\\vis\\visualizer.py:101\u001b[0m, in \u001b[0;36mVisualizer.build\u001b[1;34m(self)\u001b[0m\n\u001b[0;32m     99\u001b[0m \u001b[38;5;28;01mdef\u001b[39;00m\u001b[38;5;250m \u001b[39m\u001b[38;5;21mbuild\u001b[39m(\u001b[38;5;28mself\u001b[39m):\n\u001b[0;32m    100\u001b[0m     \u001b[38;5;28;01mif\u001b[39;00m \u001b[38;5;28mself\u001b[39m\u001b[38;5;241m.\u001b[39m_context \u001b[38;5;129;01mis\u001b[39;00m \u001b[38;5;129;01mnot\u001b[39;00m \u001b[38;5;28;01mNone\u001b[39;00m:\n\u001b[1;32m--> 101\u001b[0m         \u001b[38;5;28;43mself\u001b[39;49m\u001b[38;5;241;43m.\u001b[39;49m\u001b[43m_context\u001b[49m\u001b[38;5;241;43m.\u001b[39;49m\u001b[43mbuild\u001b[49m\u001b[43m(\u001b[49m\u001b[38;5;28;43mself\u001b[39;49m\u001b[38;5;241;43m.\u001b[39;49m\u001b[43m_scene\u001b[49m\u001b[43m)\u001b[49m\n\u001b[0;32m    103\u001b[0m     \u001b[38;5;28;01mif\u001b[39;00m \u001b[38;5;28mself\u001b[39m\u001b[38;5;241m.\u001b[39m_viewer \u001b[38;5;129;01mis\u001b[39;00m \u001b[38;5;129;01mnot\u001b[39;00m \u001b[38;5;28;01mNone\u001b[39;00m:\n\u001b[0;32m    104\u001b[0m         \u001b[38;5;28mself\u001b[39m\u001b[38;5;241m.\u001b[39m_viewer\u001b[38;5;241m.\u001b[39mbuild(\u001b[38;5;28mself\u001b[39m\u001b[38;5;241m.\u001b[39m_scene)\n",
      "File \u001b[1;32mc:\\Users\\hirek\\anaconda3\\envs\\genesis\\Lib\\site-packages\\genesis\\vis\\rasterizer_context.py:70\u001b[0m, in \u001b[0;36mRasterizerContext.build\u001b[1;34m(self, scene)\u001b[0m\n\u001b[0;32m     67\u001b[0m \u001b[38;5;66;03m# pyrender scene\u001b[39;00m\n\u001b[0;32m     68\u001b[0m \u001b[38;5;28mself\u001b[39m\u001b[38;5;241m.\u001b[39m_scene \u001b[38;5;241m=\u001b[39m pyrender\u001b[38;5;241m.\u001b[39mScene(ambient_light\u001b[38;5;241m=\u001b[39m\u001b[38;5;28mself\u001b[39m\u001b[38;5;241m.\u001b[39mambient_light, bg_color\u001b[38;5;241m=\u001b[39m\u001b[38;5;28mself\u001b[39m\u001b[38;5;241m.\u001b[39mbackground_color)\n\u001b[1;32m---> 70\u001b[0m \u001b[38;5;28mself\u001b[39m\u001b[38;5;241m.\u001b[39mjit \u001b[38;5;241m=\u001b[39m \u001b[43mJITRenderer\u001b[49m\u001b[43m(\u001b[49m\u001b[38;5;28;43mself\u001b[39;49m\u001b[38;5;241;43m.\u001b[39;49m\u001b[43m_scene\u001b[49m\u001b[43m,\u001b[49m\u001b[43m \u001b[49m\u001b[43m[\u001b[49m\u001b[43m]\u001b[49m\u001b[43m,\u001b[49m\u001b[43m \u001b[49m\u001b[43m[\u001b[49m\u001b[43m]\u001b[49m\u001b[43m)\u001b[49m\n\u001b[0;32m     72\u001b[0m \u001b[38;5;66;03m# nodes\u001b[39;00m\n\u001b[0;32m     73\u001b[0m \u001b[38;5;28mself\u001b[39m\u001b[38;5;241m.\u001b[39mworld_frame_node \u001b[38;5;241m=\u001b[39m \u001b[38;5;28;01mNone\u001b[39;00m\n",
      "File \u001b[1;32mc:\\Users\\hirek\\anaconda3\\envs\\genesis\\Lib\\site-packages\\genesis\\ext\\pyrender\\jit_render.py:201\u001b[0m, in \u001b[0;36mJITRenderer.__init__\u001b[1;34m(self, scene, node_list, primitive_list)\u001b[0m\n\u001b[0;32m    199\u001b[0m \u001b[38;5;28mself\u001b[39m\u001b[38;5;241m.\u001b[39mset_primitive(scene, node_list, primitive_list)\n\u001b[0;32m    200\u001b[0m \u001b[38;5;28mself\u001b[39m\u001b[38;5;241m.\u001b[39mset_light(scene, scene\u001b[38;5;241m.\u001b[39mlight_nodes, scene\u001b[38;5;241m.\u001b[39mambient_light)\n\u001b[1;32m--> 201\u001b[0m \u001b[38;5;28;43mself\u001b[39;49m\u001b[38;5;241;43m.\u001b[39;49m\u001b[43mgen_func_ptr\u001b[49m\u001b[43m(\u001b[49m\u001b[43m)\u001b[49m\n\u001b[0;32m    202\u001b[0m \u001b[38;5;28mself\u001b[39m\u001b[38;5;241m.\u001b[39mreflection_mat \u001b[38;5;241m=\u001b[39m np\u001b[38;5;241m.\u001b[39midentity(\u001b[38;5;241m4\u001b[39m, np\u001b[38;5;241m.\u001b[39mfloat32)\n",
      "File \u001b[1;32mc:\\Users\\hirek\\anaconda3\\envs\\genesis\\Lib\\site-packages\\genesis\\ext\\pyrender\\jit_render.py:354\u001b[0m, in \u001b[0;36mJITRenderer.gen_func_ptr\u001b[1;34m(self)\u001b[0m\n\u001b[0;32m    353\u001b[0m \u001b[38;5;28;01mdef\u001b[39;00m\u001b[38;5;250m \u001b[39m\u001b[38;5;21mgen_func_ptr\u001b[39m(\u001b[38;5;28mself\u001b[39m):\n\u001b[1;32m--> 354\u001b[0m     \u001b[38;5;28mself\u001b[39m\u001b[38;5;241m.\u001b[39mgl \u001b[38;5;241m=\u001b[39m \u001b[43mGLWrapper\u001b[49m\u001b[43m(\u001b[49m\u001b[43m)\u001b[49m\n\u001b[0;32m    356\u001b[0m     \u001b[38;5;129m@njit\u001b[39m(\n\u001b[0;32m    357\u001b[0m         none(\n\u001b[0;32m    358\u001b[0m             int32[:],\n\u001b[1;32m   (...)\u001b[0m\n\u001b[0;32m    407\u001b[0m         gl,\n\u001b[0;32m    408\u001b[0m     ):\n\u001b[0;32m    409\u001b[0m         det_reflection \u001b[38;5;241m=\u001b[39m np\u001b[38;5;241m.\u001b[39mlinalg\u001b[38;5;241m.\u001b[39mdet(reflection_mat)\n",
      "File \u001b[1;32mc:\\Users\\hirek\\anaconda3\\envs\\genesis\\Lib\\site-packages\\genesis\\ext\\pyrender\\numba_gl_wrapper.py:24\u001b[0m, in \u001b[0;36mGLWrapper.__init__\u001b[1;34m(self)\u001b[0m\n\u001b[0;32m     21\u001b[0m \u001b[38;5;28mself\u001b[39m\u001b[38;5;241m.\u001b[39mgl_funcs \u001b[38;5;241m=\u001b[39m {}\n\u001b[0;32m     23\u001b[0m load_func \u001b[38;5;241m=\u001b[39m \u001b[38;5;28mself\u001b[39m\u001b[38;5;241m.\u001b[39mload_func\n\u001b[1;32m---> 24\u001b[0m \u001b[43mload_func\u001b[49m\u001b[43m(\u001b[49m\u001b[38;5;124;43m\"\u001b[39;49m\u001b[38;5;124;43mglGetUniformLocation\u001b[39;49m\u001b[38;5;124;43m\"\u001b[39;49m\u001b[43m,\u001b[49m\u001b[43m \u001b[49m\u001b[43mGLint\u001b[49m\u001b[43m,\u001b[49m\u001b[43m \u001b[49m\u001b[43mGLuint\u001b[49m\u001b[43m,\u001b[49m\u001b[43m \u001b[49m\u001b[43mGLvoidp\u001b[49m\u001b[43m)\u001b[49m\n\u001b[0;32m     25\u001b[0m load_func(\u001b[38;5;124m\"\u001b[39m\u001b[38;5;124mglUniformMatrix4fv\u001b[39m\u001b[38;5;124m\"\u001b[39m, GLvoid, GLint, GLsizei, GLboolean, GLvoidp)\n\u001b[0;32m     26\u001b[0m load_func(\u001b[38;5;124m\"\u001b[39m\u001b[38;5;124mglUniform1i\u001b[39m\u001b[38;5;124m\"\u001b[39m, GLvoid, GLint, GLint)\n",
      "File \u001b[1;32mc:\\Users\\hirek\\anaconda3\\envs\\genesis\\Lib\\site-packages\\genesis\\ext\\pyrender\\numba_gl_wrapper.py:52\u001b[0m, in \u001b[0;36mGLWrapper.load_func\u001b[1;34m(self, func_name, *signature)\u001b[0m\n\u001b[0;32m     50\u001b[0m \u001b[38;5;28;01mdef\u001b[39;00m\u001b[38;5;250m \u001b[39m\u001b[38;5;21mload_func\u001b[39m(\u001b[38;5;28mself\u001b[39m, func_name, \u001b[38;5;241m*\u001b[39msignature):\n\u001b[0;32m     51\u001b[0m     dll \u001b[38;5;241m=\u001b[39m GL\u001b[38;5;241m.\u001b[39mplatform\u001b[38;5;241m.\u001b[39mPLATFORM\u001b[38;5;241m.\u001b[39mGL\n\u001b[1;32m---> 52\u001b[0m     func_ptr \u001b[38;5;241m=\u001b[39m \u001b[43mGL\u001b[49m\u001b[38;5;241;43m.\u001b[39;49m\u001b[43mplatform\u001b[49m\u001b[38;5;241;43m.\u001b[39;49m\u001b[43mctypesloader\u001b[49m\u001b[38;5;241;43m.\u001b[39;49m\u001b[43mbuildFunction\u001b[49m\u001b[43m(\u001b[49m\n\u001b[0;32m     53\u001b[0m \u001b[43m        \u001b[49m\u001b[43mGL\u001b[49m\u001b[38;5;241;43m.\u001b[39;49m\u001b[43mplatform\u001b[49m\u001b[38;5;241;43m.\u001b[39;49m\u001b[43mPLATFORM\u001b[49m\u001b[38;5;241;43m.\u001b[39;49m\u001b[43mfunctionTypeFor\u001b[49m\u001b[43m(\u001b[49m\u001b[43mdll\u001b[49m\u001b[43m)\u001b[49m\u001b[43m(\u001b[49m\u001b[38;5;241;43m*\u001b[39;49m\u001b[43msignature\u001b[49m\u001b[43m)\u001b[49m\u001b[43m,\u001b[49m\n\u001b[0;32m     54\u001b[0m \u001b[43m        \u001b[49m\u001b[43mfunc_name\u001b[49m\u001b[43m,\u001b[49m\n\u001b[0;32m     55\u001b[0m \u001b[43m        \u001b[49m\u001b[43mdll\u001b[49m\u001b[43m,\u001b[49m\n\u001b[0;32m     56\u001b[0m \u001b[43m    \u001b[49m\u001b[43m)\u001b[49m\n\u001b[0;32m     57\u001b[0m     \u001b[38;5;28mself\u001b[39m\u001b[38;5;241m.\u001b[39mgl_funcs[func_name] \u001b[38;5;241m=\u001b[39m func_ptr\n",
      "File \u001b[1;32mc:\\Users\\hirek\\anaconda3\\envs\\genesis\\Lib\\site-packages\\OpenGL\\platform\\ctypesloader.py:96\u001b[0m, in \u001b[0;36mbuildFunction\u001b[1;34m(functionType, name, dll)\u001b[0m\n\u001b[0;32m     94\u001b[0m \u001b[38;5;28;01mdef\u001b[39;00m\u001b[38;5;250m \u001b[39m\u001b[38;5;21mbuildFunction\u001b[39m( functionType, name, dll ):\n\u001b[0;32m     95\u001b[0m \u001b[38;5;250m    \u001b[39m\u001b[38;5;124;03m\"\"\"Abstract away the ctypes function-creation operation\"\"\"\u001b[39;00m\n\u001b[1;32m---> 96\u001b[0m     \u001b[38;5;28;01mreturn\u001b[39;00m \u001b[43mfunctionType\u001b[49m\u001b[43m(\u001b[49m\u001b[43m \u001b[49m\u001b[43m(\u001b[49m\u001b[43mname\u001b[49m\u001b[43m,\u001b[49m\u001b[43m \u001b[49m\u001b[43mdll\u001b[49m\u001b[43m)\u001b[49m\u001b[43m,\u001b[49m\u001b[43m \u001b[49m\u001b[43m)\u001b[49m\n",
      "\u001b[1;31mAttributeError\u001b[0m: function 'glGetUniformLocation' not found"
     ]
    }
   ],
   "source": [
    "import genesis as gs\n",
    "gs.init(backend=gs.gpu)\n",
    "\n",
    "scene = gs.Scene(show_viewer=True)\n",
    "plane = scene.add_entity(gs.morphs.Plane())\n",
    "franka = scene.add_entity(\n",
    "    gs.morphs.MJCF(file='xml/franka_emika_panda/panda.xml'),\n",
    ")\n",
    "\n",
    "scene.build()\n",
    "\n",
    "for i in range(1000):\n",
    "    scene.step()"
   ]
  }
 ],
 "metadata": {
  "kernelspec": {
   "display_name": "genesis",
   "language": "python",
   "name": "python3"
  },
  "language_info": {
   "codemirror_mode": {
    "name": "ipython",
    "version": 3
   },
   "file_extension": ".py",
   "mimetype": "text/x-python",
   "name": "python",
   "nbconvert_exporter": "python",
   "pygments_lexer": "ipython3",
   "version": "3.12.8"
  }
 },
 "nbformat": 4,
 "nbformat_minor": 2
}
